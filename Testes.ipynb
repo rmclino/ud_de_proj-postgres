{
 "cells": [
  {
   "cell_type": "code",
   "execution_count": 1,
   "metadata": {
    "editable": true
   },
   "outputs": [],
   "source": [
    "from create_tables import create_database, create_tables, drop_tables"
   ]
  },
  {
   "cell_type": "code",
   "execution_count": 109,
   "metadata": {
    "editable": true
   },
   "outputs": [],
   "source": [
    "import os\n",
    "import glob"
   ]
  },
  {
   "cell_type": "code",
   "execution_count": 3,
   "metadata": {
    "editable": true
   },
   "outputs": [],
   "source": [
    "import pandas as pd"
   ]
  },
  {
   "cell_type": "code",
   "execution_count": 4,
   "metadata": {
    "editable": true
   },
   "outputs": [],
   "source": [
    " cur, conn = create_database()"
   ]
  },
  {
   "cell_type": "code",
   "execution_count": 9,
   "metadata": {
    "editable": true
   },
   "outputs": [
    {
     "name": "stdout",
     "output_type": "stream",
     "text": [
      " songplays \n",
      " users\n",
      " songs \n",
      " artists \n",
      " time \n"
     ]
    }
   ],
   "source": [
    "create_tables(cur, conn)"
   ]
  },
  {
   "cell_type": "code",
   "execution_count": 8,
   "metadata": {
    "editable": true
   },
   "outputs": [],
   "source": [
    "drop_tables(cur, conn)"
   ]
  },
  {
   "cell_type": "code",
   "execution_count": 15,
   "metadata": {
    "editable": true
   },
   "outputs": [],
   "source": [
    "conn.close()"
   ]
  },
  {
   "cell_type": "code",
   "execution_count": null,
   "metadata": {
    "editable": true
   },
   "outputs": [],
   "source": []
  },
  {
   "cell_type": "code",
   "execution_count": null,
   "metadata": {
    "editable": true
   },
   "outputs": [],
   "source": [
    "conn = psycopg2.connect(\"host=127.0.0.1 dbname=sparkifydb user=student password=student\")\n",
    "cur = conn.cursor()"
   ]
  },
  {
   "cell_type": "code",
   "execution_count": null,
   "metadata": {
    "editable": true
   },
   "outputs": [],
   "source": [
    "file_name = 'data'+ os.sep + 'song_data' + os.sep + 'A' + os.sep + 'A' + os.sep + 'A' + os.sep  + 'TRAAAAW128F429D538.json'"
   ]
  },
  {
   "cell_type": "code",
   "execution_count": null,
   "metadata": {
    "editable": true
   },
   "outputs": [],
   "source": [
    "df = pd.read_json(file_name , lines = True)"
   ]
  },
  {
   "cell_type": "code",
   "execution_count": null,
   "metadata": {
    "editable": true
   },
   "outputs": [],
   "source": [
    "df"
   ]
  },
  {
   "cell_type": "code",
   "execution_count": 46,
   "metadata": {
    "editable": true
   },
   "outputs": [],
   "source": [
    " cur.execute(\"\"\" SELECT *\n",
    "                    FROM songs s\n",
    "                    --WHERE duration = '218.77506'\n",
    "                    ORDER BY duration\n",
    "                    LIMIT 1000\n",
    "                    \n",
    " \"\"\")\n",
    "rows = cur.fetchall()\n",
    "durations = []\n",
    "for row in rows:\n",
    "    durations.append(row[4])"
   ]
  },
  {
   "cell_type": "code",
   "execution_count": 133,
   "metadata": {
    "editable": true
   },
   "outputs": [],
   "source": [
    " cur.execute(\"\"\" SELECT title\n",
    "                    FROM songs s\n",
    "                    --WHERE duration = '218.77506'\n",
    "                    ORDER BY duration\n",
    "                   \n",
    "                    \n",
    " \"\"\")\n",
    "rows = cur.fetchall()\n",
    "titles = []\n",
    "for row in rows:\n",
    "    titles.append(row[0])"
   ]
  },
  {
   "cell_type": "code",
   "execution_count": 134,
   "metadata": {
    "editable": true
   },
   "outputs": [
    {
     "data": {
      "text/plain": [
       "['Sonnerie lalaleulé hi houuu',\n",
       " 'I Hold Your Hand In Mine [Live At Royal Albert Hall]',\n",
       " 'Get Your Head Stuck On Your Neck',\n",
       " 'Intro',\n",
       " 'Wessex Loses a Bride',\n",
       " 'Keepin It Real (Skit)',\n",
       " 'James (Hold The Ladder Steady)',\n",
       " 'It Makes No Difference Now',\n",
       " 'Erica (2005 Digital Remaster)',\n",
       " 'Soul Deep',\n",
       " 'City Slickers',\n",
       " 'Broken-Down Merry-Go-Round',\n",
       " 'Der Kleine Dompfaff',\n",
       " 'Clementina Santafè',\n",
       " 'Crazy Mixed Up World',\n",
       " 'Twist and Shout',\n",
       " 'Synthetic Dream',\n",
       " 'Spanish Grease',\n",
       " 'Loaded Like A Gun',\n",
       " 'Laws Patrolling (Album Version)',\n",
       " 'Amor De Cabaret',\n",
       " 'Knocked Out Of The Park',\n",
       " 'I Think My Wife Is Running Around On Me (Taco Hell)',\n",
       " 'Drop of Rain',\n",
       " 'Auguri Cha Cha',\n",
       " 'Native Soul',\n",
       " 'Jenny Take a Ride',\n",
       " 'Setting Fire to Sleeping Giants',\n",
       " 'Face the Ashes',\n",
       " 'Rumba De Barcelona',\n",
       " 'Young Boy Blues',\n",
       " \"I Didn't Mean To\",\n",
       " 'Kassie Jones',\n",
       " 'Made Like This (Live)',\n",
       " 'La Culpa',\n",
       " 'High Tide',\n",
       " 'Wild Rose (Back 2 Basics Mix)',\n",
       " 'Something Girls',\n",
       " 'A Higher Place (Album Version)',\n",
       " 'Larger Than Life',\n",
       " 'Baby Come To Me',\n",
       " 'It Wont Be Christmas',\n",
       " 'Den Pai Alo',\n",
       " 'The Urgency (LP Version)',\n",
       " 'OAKtown',\n",
       " 'Music is what we love',\n",
       " 'Insatiable (Instrumental Version)',\n",
       " 'The Moon And I (Ordinary Day Album Version)',\n",
       " 'Setanta matins',\n",
       " 'Pink World',\n",
       " 'Blessed Assurance',\n",
       " 'Streets On Fire (Explicit Album Version)',\n",
       " 'Living Hell',\n",
       " 'Caught In A Dream',\n",
       " 'Harajuku Girls',\n",
       " 'The Ballad Of Sleeping Beauty',\n",
       " 'Tonight Will Be Alright',\n",
       " '¿Dónde va Chichi?',\n",
       " 'A Whiter Shade Of Pale (Live @ Fillmore West)',\n",
       " 'Midnight Star',\n",
       " 'Ten Tonne',\n",
       " 'Got My Mojo Workin',\n",
       " 'Superconfidential',\n",
       " 'Do You Finally Need A Friend',\n",
       " 'Prognosis',\n",
       " 'Kutt Free (DJ Volume Remix)',\n",
       " 'Salt In NYC',\n",
       " 'The Emperor Falls',\n",
       " 'Floating',\n",
       " 'Sono andati? Fingevo di dormire',\n",
       " 'Sohna Nee Sohna Data']"
      ]
     },
     "execution_count": 134,
     "metadata": {},
     "output_type": "execute_result"
    }
   ],
   "source": [
    "titles"
   ]
  },
  {
   "cell_type": "code",
   "execution_count": 98,
   "metadata": {
    "editable": true
   },
   "outputs": [
    {
     "name": "stdout",
     "output_type": "stream",
     "text": [
      "[('ARQGYP71187FB44566', 'Jimmy Wakely', 'Mineola, AR', 34.31109, -94.02978)]\n"
     ]
    }
   ],
   "source": [
    " cur.execute(\"\"\" SELECT *\n",
    "                    FROM artists a\n",
    "                    WHERE name='Jimmy Wakely'\n",
    "                   \n",
    " \"\"\")\n",
    "rows = cur.fetchall()\n",
    "artist_names = []\n",
    "print(rows)"
   ]
  },
  {
   "cell_type": "code",
   "execution_count": 102,
   "metadata": {
    "editable": true
   },
   "outputs": [],
   "source": [
    " cur.execute(\"\"\" SELECT name\n",
    "                    FROM artists a\n",
    "                   \n",
    " \"\"\")\n",
    "rows = cur.fetchall()\n",
    "artist_names = []\n",
    "for row in rows:\n",
    "    artist_names.extend(row)\n"
   ]
  },
  {
   "cell_type": "code",
   "execution_count": 105,
   "metadata": {
    "editable": true
   },
   "outputs": [],
   "source": [
    "artist_names.sort()"
   ]
  },
  {
   "cell_type": "code",
   "execution_count": 106,
   "metadata": {
    "editable": true
   },
   "outputs": [
    {
     "data": {
      "text/plain": [
       "['40 Grit',\n",
       " 'Adam Ant',\n",
       " 'Alice Stuart',\n",
       " 'Andy Andy',\n",
       " 'Backstreet Boys',\n",
       " 'Billie Jo Spears',\n",
       " 'Bitter End',\n",
       " 'Blingtones',\n",
       " 'Blue Rodeo',\n",
       " 'Bob Azzam',\n",
       " 'Bombay Rockers',\n",
       " 'Casual',\n",
       " 'Chase & Status',\n",
       " 'Christos Dantis',\n",
       " 'Clp',\n",
       " 'Danilo Perez',\n",
       " 'David Martin',\n",
       " 'Eddie Calvert',\n",
       " 'Elena',\n",
       " 'Faiz Ali Faiz',\n",
       " 'Faye Adams',\n",
       " 'Five Bolt Main',\n",
       " 'Glad',\n",
       " 'Gloriana',\n",
       " 'Gob',\n",
       " 'Gwen Stefani',\n",
       " 'Jeff And Sheri Easter',\n",
       " 'JennyAnyKind',\n",
       " 'Jimmy Wakely',\n",
       " 'Jinx',\n",
       " 'John Davis',\n",
       " 'John Wesley',\n",
       " 'Kenny G featuring Daryl Hall',\n",
       " 'King Curtis',\n",
       " 'Line Renaud',\n",
       " 'Lionel Richie',\n",
       " 'Los Manolos',\n",
       " 'Luna Orbit Project',\n",
       " 'Lupe Fiasco',\n",
       " 'Marc Shaiman',\n",
       " \"Mike Jones (Featuring CJ_ Mello & Lil' Bran)\",\n",
       " 'Mitch Ryder',\n",
       " 'Montserrat Caballé;Placido Domingo;Vicente Sardinero;Judith Blegen;Sherrill Milnes;Georg Solti',\n",
       " 'Nick Ingman;Gavyn Wright',\n",
       " 'Planet P Project',\n",
       " 'Pucho & His Latin Soul Brothers',\n",
       " 'Rated R',\n",
       " 'Richard Souther',\n",
       " 'SUE THOMPSON',\n",
       " 'Sierra Maestra',\n",
       " 'Sonora Santanera',\n",
       " 'Sophie B. Hawkins',\n",
       " 'Soul Mekanik',\n",
       " 'Steel Rain',\n",
       " 'Steve Morse',\n",
       " 'Terry Callier',\n",
       " 'Tesla',\n",
       " 'The Box Tops',\n",
       " 'The Dillinger Escape Plan',\n",
       " 'The Shangri-Las',\n",
       " 'Tim Wilson',\n",
       " 'Tiny Tim',\n",
       " 'Tom Petty',\n",
       " 'Trafik',\n",
       " 'Tweeterfriendly Music',\n",
       " 'Wayne Watson',\n",
       " 'Wilks',\n",
       " 'Willie Bobo',\n",
       " 'lextrical']"
      ]
     },
     "execution_count": 106,
     "metadata": {},
     "output_type": "execute_result"
    }
   ],
   "source": [
    "artist_names"
   ]
  },
  {
   "cell_type": "code",
   "execution_count": 78,
   "metadata": {
    "editable": true
   },
   "outputs": [],
   "source": [
    "tupla =('ric','fefa')"
   ]
  },
  {
   "cell_type": "code",
   "execution_count": 79,
   "metadata": {
    "editable": true
   },
   "outputs": [
    {
     "data": {
      "text/plain": [
       "['ric', 'fefa']"
      ]
     },
     "execution_count": 79,
     "metadata": {},
     "output_type": "execute_result"
    }
   ],
   "source": [
    "[*tupla]"
   ]
  },
  {
   "cell_type": "code",
   "execution_count": 20,
   "metadata": {
    "editable": true
   },
   "outputs": [
    {
     "data": {
      "text/plain": [
       "'/home/workspace'"
      ]
     },
     "execution_count": 20,
     "metadata": {},
     "output_type": "execute_result"
    }
   ],
   "source": [
    "os.getcwd()"
   ]
  },
  {
   "cell_type": "code",
   "execution_count": 92,
   "metadata": {
    "editable": true
   },
   "outputs": [
    {
     "data": {
      "text/plain": [
       "['2018-11-30-events.json',\n",
       " '2018-11-11-events.json',\n",
       " '2018-11-23-events.json',\n",
       " '2018-11-24-events.json',\n",
       " '2018-11-25-events.json',\n",
       " '2018-11-20-events.json',\n",
       " '2018-11-15-events.json',\n",
       " '2018-11-01-events.json',\n",
       " '2018-11-03-events.json',\n",
       " '2018-11-13-events.json',\n",
       " '2018-11-10-events.json',\n",
       " '2018-11-28-events.json',\n",
       " '2018-11-26-events.json',\n",
       " '2018-11-04-events.json',\n",
       " '2018-11-14-events.json',\n",
       " '2018-11-27-events.json',\n",
       " '2018-11-21-events.json',\n",
       " '2018-11-06-events.json',\n",
       " '2018-11-22-events.json',\n",
       " '2018-11-12-events.json',\n",
       " '2018-11-05-events.json',\n",
       " '2018-11-09-events.json',\n",
       " '2018-11-08-events.json',\n",
       " '2018-11-02-events.json',\n",
       " '2018-11-18-events.json',\n",
       " '2018-11-07-events.json',\n",
       " '2018-11-16-events.json',\n",
       " '2018-11-29-events.json',\n",
       " '2018-11-19-events.json',\n",
       " '2018-11-17-events.json']"
      ]
     },
     "execution_count": 92,
     "metadata": {},
     "output_type": "execute_result"
    }
   ],
   "source": [
    "os.listdir('data/log_data/2018/11')"
   ]
  },
  {
   "cell_type": "code",
   "execution_count": 99,
   "metadata": {
    "editable": true
   },
   "outputs": [],
   "source": [
    "df = pd.read_json('data/log_data/2018/11/2018-11-12-events.json', lines=True)"
   ]
  },
  {
   "cell_type": "code",
   "execution_count": 51,
   "metadata": {
    "editable": true
   },
   "outputs": [],
   "source": [
    "#df.sort_values(by='length')"
   ]
  },
  {
   "cell_type": "code",
   "execution_count": 100,
   "metadata": {
    "editable": true
   },
   "outputs": [
    {
     "data": {
      "text/html": [
       "<div>\n",
       "<style scoped>\n",
       "    .dataframe tbody tr th:only-of-type {\n",
       "        vertical-align: middle;\n",
       "    }\n",
       "\n",
       "    .dataframe tbody tr th {\n",
       "        vertical-align: top;\n",
       "    }\n",
       "\n",
       "    .dataframe thead th {\n",
       "        text-align: right;\n",
       "    }\n",
       "</style>\n",
       "<table border=\"1\" class=\"dataframe\">\n",
       "  <thead>\n",
       "    <tr style=\"text-align: right;\">\n",
       "      <th></th>\n",
       "      <th>artist</th>\n",
       "      <th>auth</th>\n",
       "      <th>firstName</th>\n",
       "      <th>gender</th>\n",
       "      <th>itemInSession</th>\n",
       "      <th>lastName</th>\n",
       "      <th>length</th>\n",
       "      <th>level</th>\n",
       "      <th>location</th>\n",
       "      <th>method</th>\n",
       "      <th>page</th>\n",
       "      <th>registration</th>\n",
       "      <th>sessionId</th>\n",
       "      <th>song</th>\n",
       "      <th>status</th>\n",
       "      <th>ts</th>\n",
       "      <th>userAgent</th>\n",
       "      <th>userId</th>\n",
       "    </tr>\n",
       "  </thead>\n",
       "  <tbody>\n",
       "    <tr>\n",
       "      <th>33</th>\n",
       "      <td>Slipknot</td>\n",
       "      <td>Logged In</td>\n",
       "      <td>Aiden</td>\n",
       "      <td>M</td>\n",
       "      <td>3</td>\n",
       "      <td>Hess</td>\n",
       "      <td>259.44771</td>\n",
       "      <td>free</td>\n",
       "      <td>La Crosse-Onalaska, WI-MN</td>\n",
       "      <td>PUT</td>\n",
       "      <td>NextSong</td>\n",
       "      <td>1.540829e+12</td>\n",
       "      <td>344</td>\n",
       "      <td>Eyeless (Live version) (Album Version)</td>\n",
       "      <td>200</td>\n",
       "      <td>1542019067796</td>\n",
       "      <td>\"Mozilla/5.0 (Macintosh; Intel Mac OS X 10_9_4...</td>\n",
       "      <td>86</td>\n",
       "    </tr>\n",
       "    <tr>\n",
       "      <th>130</th>\n",
       "      <td>Amy Winehouse</td>\n",
       "      <td>Logged In</td>\n",
       "      <td>Jacob</td>\n",
       "      <td>M</td>\n",
       "      <td>32</td>\n",
       "      <td>Klein</td>\n",
       "      <td>191.84281</td>\n",
       "      <td>paid</td>\n",
       "      <td>Tampa-St. Petersburg-Clearwater, FL</td>\n",
       "      <td>PUT</td>\n",
       "      <td>NextSong</td>\n",
       "      <td>1.540558e+12</td>\n",
       "      <td>294</td>\n",
       "      <td>Just Friends</td>\n",
       "      <td>200</td>\n",
       "      <td>1542048012796</td>\n",
       "      <td>\"Mozilla/5.0 (Macintosh; Intel Mac OS X 10_9_4...</td>\n",
       "      <td>73</td>\n",
       "    </tr>\n",
       "  </tbody>\n",
       "</table>\n",
       "</div>"
      ],
      "text/plain": [
       "            artist       auth firstName gender  itemInSession lastName  \\\n",
       "33        Slipknot  Logged In     Aiden      M              3     Hess   \n",
       "130  Amy Winehouse  Logged In     Jacob      M             32    Klein   \n",
       "\n",
       "        length level                             location method      page  \\\n",
       "33   259.44771  free            La Crosse-Onalaska, WI-MN    PUT  NextSong   \n",
       "130  191.84281  paid  Tampa-St. Petersburg-Clearwater, FL    PUT  NextSong   \n",
       "\n",
       "     registration  sessionId                                    song  status  \\\n",
       "33   1.540829e+12        344  Eyeless (Live version) (Album Version)     200   \n",
       "130  1.540558e+12        294                            Just Friends     200   \n",
       "\n",
       "                ts                                          userAgent userId  \n",
       "33   1542019067796  \"Mozilla/5.0 (Macintosh; Intel Mac OS X 10_9_4...     86  \n",
       "130  1542048012796  \"Mozilla/5.0 (Macintosh; Intel Mac OS X 10_9_4...     73  "
      ]
     },
     "execution_count": 100,
     "metadata": {},
     "output_type": "execute_result"
    }
   ],
   "source": [
    "df[ df.length.isin(durations)]"
   ]
  },
  {
   "cell_type": "code",
   "execution_count": 101,
   "metadata": {
    "editable": true
   },
   "outputs": [
    {
     "data": {
      "text/html": [
       "<div>\n",
       "<style scoped>\n",
       "    .dataframe tbody tr th:only-of-type {\n",
       "        vertical-align: middle;\n",
       "    }\n",
       "\n",
       "    .dataframe tbody tr th {\n",
       "        vertical-align: top;\n",
       "    }\n",
       "\n",
       "    .dataframe thead th {\n",
       "        text-align: right;\n",
       "    }\n",
       "</style>\n",
       "<table border=\"1\" class=\"dataframe\">\n",
       "  <thead>\n",
       "    <tr style=\"text-align: right;\">\n",
       "      <th></th>\n",
       "      <th>artist</th>\n",
       "      <th>auth</th>\n",
       "      <th>firstName</th>\n",
       "      <th>gender</th>\n",
       "      <th>itemInSession</th>\n",
       "      <th>lastName</th>\n",
       "      <th>length</th>\n",
       "      <th>level</th>\n",
       "      <th>location</th>\n",
       "      <th>method</th>\n",
       "      <th>page</th>\n",
       "      <th>registration</th>\n",
       "      <th>sessionId</th>\n",
       "      <th>song</th>\n",
       "      <th>status</th>\n",
       "      <th>ts</th>\n",
       "      <th>userAgent</th>\n",
       "      <th>userId</th>\n",
       "    </tr>\n",
       "  </thead>\n",
       "  <tbody>\n",
       "  </tbody>\n",
       "</table>\n",
       "</div>"
      ],
      "text/plain": [
       "Empty DataFrame\n",
       "Columns: [artist, auth, firstName, gender, itemInSession, lastName, length, level, location, method, page, registration, sessionId, song, status, ts, userAgent, userId]\n",
       "Index: []"
      ]
     },
     "execution_count": 101,
     "metadata": {},
     "output_type": "execute_result"
    }
   ],
   "source": [
    "df[ df.artist.isin(artist_names)]"
   ]
  },
  {
   "cell_type": "code",
   "execution_count": 54,
   "metadata": {
    "editable": true
   },
   "outputs": [],
   "source": [
    "cur.execute(\"ROLLBACK\")"
   ]
  },
  {
   "cell_type": "code",
   "execution_count": 110,
   "metadata": {
    "editable": true
   },
   "outputs": [],
   "source": [
    "def get_files(filepath):\n",
    "    all_files = []\n",
    "    for root, dirs, files in os.walk(filepath):\n",
    "        files = glob.glob(os.path.join(root,'*.json'))\n",
    "        for f in files :\n",
    "            all_files.append(os.path.abspath(f))\n",
    "    \n",
    "    return all_files"
   ]
  },
  {
   "cell_type": "code",
   "execution_count": 118,
   "metadata": {
    "editable": true
   },
   "outputs": [],
   "source": [
    "file_list = get_files('data/log_data')"
   ]
  },
  {
   "cell_type": "code",
   "execution_count": 185,
   "metadata": {
    "editable": true
   },
   "outputs": [],
   "source": [
    "dfs = [] # an empty list to store the data frames\n",
    "for file in file_list:\n",
    "    data = pd.read_json(file, lines=True) # read data frame from json file\n",
    "    data['file'] = file\n",
    "    dfs.append(data) # append the data frame to the list\n",
    "    \n",
    "temp = pd.concat(dfs, ignore_index=True)"
   ]
  },
  {
   "cell_type": "code",
   "execution_count": 186,
   "metadata": {
    "editable": true
   },
   "outputs": [
    {
     "data": {
      "text/plain": [
       "(8056, 19)"
      ]
     },
     "execution_count": 186,
     "metadata": {},
     "output_type": "execute_result"
    }
   ],
   "source": [
    "temp.shape"
   ]
  },
  {
   "cell_type": "code",
   "execution_count": 187,
   "metadata": {
    "editable": true
   },
   "outputs": [
    {
     "data": {
      "text/plain": [
       "Index(['artist', 'auth', 'firstName', 'gender', 'itemInSession', 'lastName',\n",
       "       'length', 'level', 'location', 'method', 'page', 'registration',\n",
       "       'sessionId', 'song', 'status', 'ts', 'userAgent', 'userId', 'file'],\n",
       "      dtype='object')"
      ]
     },
     "execution_count": 187,
     "metadata": {},
     "output_type": "execute_result"
    }
   ],
   "source": [
    "temp.columns"
   ]
  },
  {
   "cell_type": "code",
   "execution_count": 188,
   "metadata": {
    "editable": true
   },
   "outputs": [
    {
     "data": {
      "text/plain": [
       "4862    269.58322\n",
       "Name: length, dtype: float64"
      ]
     },
     "execution_count": 188,
     "metadata": {},
     "output_type": "execute_result"
    }
   ],
   "source": [
    "temp.loc[ temp.artist.isin(artist_names),'length'][ temp.loc[ temp.artist.isin(artist_names),'length'].isin(durations) ]"
   ]
  },
  {
   "cell_type": "code",
   "execution_count": 189,
   "metadata": {
    "editable": true
   },
   "outputs": [
    {
     "data": {
      "text/plain": [
       "'Elena'"
      ]
     },
     "execution_count": 189,
     "metadata": {},
     "output_type": "execute_result"
    }
   ],
   "source": [
    "temp.iloc[4862][0]"
   ]
  },
  {
   "cell_type": "code",
   "execution_count": 137,
   "metadata": {
    "editable": true
   },
   "outputs": [
    {
     "data": {
      "text/plain": [
       "True"
      ]
     },
     "execution_count": 137,
     "metadata": {},
     "output_type": "execute_result"
    }
   ],
   "source": [
    "'Setanta matins' in titles"
   ]
  },
  {
   "cell_type": "code",
   "execution_count": 191,
   "metadata": {
    "editable": true
   },
   "outputs": [
    {
     "data": {
      "text/plain": [
       "'/home/workspace/data/log_data/2018/11/2018-11-21-events.json'"
      ]
     },
     "execution_count": 191,
     "metadata": {},
     "output_type": "execute_result"
    }
   ],
   "source": [
    "temp.iloc[4862].file"
   ]
  },
  {
   "cell_type": "code",
   "execution_count": 181,
   "metadata": {
    "editable": true
   },
   "outputs": [],
   "source": [
    "cur.execute(\"SELECT * FROM songs s INNER JOIN artists a ON s.artist_id = a.artist_id WHERE duration = '269.58322';\")"
   ]
  },
  {
   "cell_type": "code",
   "execution_count": 182,
   "metadata": {
    "editable": true
   },
   "outputs": [],
   "source": [
    "rows = cur.fetchall()"
   ]
  },
  {
   "cell_type": "code",
   "execution_count": 183,
   "metadata": {
    "editable": true
   },
   "outputs": [
    {
     "name": "stdout",
     "output_type": "stream",
     "text": [
      "('SOZCTXZ12AB0182364', 'Setanta matins', 'AR5KOSW1187FB35FF4', 0, 269.58322, 'AR5KOSW1187FB35FF4', 'Elena', 'Dubai UAE', 49.80388, 15.47491)\n"
     ]
    }
   ],
   "source": [
    "for row in rows:\n",
    "    print(row)"
   ]
  },
  {
   "cell_type": "code",
   "execution_count": null,
   "metadata": {
    "editable": true
   },
   "outputs": [],
   "source": []
  }
 ],
 "metadata": {
  "kernelspec": {
   "display_name": "Python 3",
   "language": "python",
   "name": "python3"
  },
  "language_info": {
   "codemirror_mode": {
    "name": "ipython",
    "version": 3
   },
   "file_extension": ".py",
   "mimetype": "text/x-python",
   "name": "python",
   "nbconvert_exporter": "python",
   "pygments_lexer": "ipython3",
   "version": "3.6.3"
  }
 },
 "nbformat": 4,
 "nbformat_minor": 4
}
