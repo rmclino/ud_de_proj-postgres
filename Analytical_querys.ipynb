{
 "cells": [
  {
   "cell_type": "code",
   "execution_count": 1,
   "metadata": {
    "editable": true
   },
   "outputs": [],
   "source": [
    "import pandas as pd\n",
    "import psycopg2"
   ]
  },
  {
   "cell_type": "markdown",
   "metadata": {
    "editable": true
   },
   "source": [
    "## Open connection"
   ]
  },
  {
   "cell_type": "code",
   "execution_count": 2,
   "metadata": {
    "editable": true
   },
   "outputs": [],
   "source": [
    "conn = psycopg2.connect(\"host=127.0.0.1 dbname=sparkifydb user=student password=student\")\n",
    "cur = conn.cursor()"
   ]
  },
  {
   "cell_type": "markdown",
   "metadata": {
    "editable": true
   },
   "source": [
    "## Session per sex"
   ]
  },
  {
   "cell_type": "code",
   "execution_count": 15,
   "metadata": {
    "editable": true
   },
   "outputs": [
    {
     "name": "stdout",
     "output_type": "stream",
     "text": [
      "('M', 28.3431085043988)\n",
      "('F', 71.6568914956012)\n"
     ]
    }
   ],
   "source": [
    " cur.execute(\"\"\" SELECT u.gender, COUNT(session_id)/ (SELECT COUNT(session_id) FROM songplays)::float *100\n",
    "                    FROM songplays s\n",
    "                    JOIN users u\n",
    "                    ON s.user_id = u.user_id\n",
    "                    GROUP BY gender\n",
    "                    ORDER BY COUNT(session_id)                                        \n",
    " \"\"\")\n",
    "rows = cur.fetchall()\n",
    "results = []\n",
    "for row in rows:\n",
    "    results.append(row[0])\n",
    "    print(row)"
   ]
  },
  {
   "cell_type": "markdown",
   "metadata": {
    "editable": true
   },
   "source": [
    "## Session per sex per month"
   ]
  },
  {
   "cell_type": "code",
   "execution_count": 20,
   "metadata": {
    "editable": true
   },
   "outputs": [
    {
     "name": "stdout",
     "output_type": "stream",
     "text": [
      "(11, 'M', 28.3431085043988)\n",
      "(11, 'F', 71.6568914956012)\n"
     ]
    }
   ],
   "source": [
    " cur.execute(\"\"\" SELECT t.month, u.gender, COUNT(session_id)/ (SELECT COUNT(session_id) FROM songplays)::float *100\n",
    "                    FROM songplays s\n",
    "                    JOIN users u ON s.user_id = u.user_id\n",
    "                    JOIN time t ON s.start_time = t.start_time\n",
    "                    GROUP BY t.month, u.gender\n",
    "                    ORDER BY COUNT(session_id)  \n",
    " \"\"\")\n",
    "rows = cur.fetchall()\n",
    "results = []\n",
    "for row in rows:\n",
    "    results.append(row[0])\n",
    "    print(row)"
   ]
  },
  {
   "cell_type": "markdown",
   "metadata": {
    "editable": true
   },
   "source": [
    "## Most Played artist"
   ]
  },
  {
   "cell_type": "code",
   "execution_count": 25,
   "metadata": {
    "editable": true
   },
   "outputs": [
    {
     "name": "stdout",
     "output_type": "stream",
     "text": [
      "('Elena', 0.0146627565982405)\n"
     ]
    }
   ],
   "source": [
    " cur.execute(\"\"\" SELECT a.name, COUNT(session_id)/ (SELECT COUNT(session_id) FROM songplays)::float *100\n",
    "                    FROM songplays s\n",
    "                    JOIN artists a ON s.artist_id = a.artist_id\n",
    "                    GROUP BY a.name\n",
    "                    ORDER BY COUNT(session_id) \n",
    " \"\"\")\n",
    "rows = cur.fetchall()\n",
    "results = []\n",
    "for row in rows:\n",
    "    results.append(row[0])\n",
    "    print(row)"
   ]
  },
  {
   "cell_type": "markdown",
   "metadata": {
    "editable": true
   },
   "source": [
    "## User Levels %"
   ]
  },
  {
   "cell_type": "code",
   "execution_count": 30,
   "metadata": {
    "editable": true
   },
   "outputs": [
    {
     "name": "stdout",
     "output_type": "stream",
     "text": [
      "('free', 77.0833333333333)\n",
      "('paid', 22.9166666666667)\n"
     ]
    }
   ],
   "source": [
    " cur.execute(\"\"\" SELECT u.level, COUNT(u.level) / (SELECT COUNT(u.level) FROM users u)::float *100\n",
    "                 FROM users u\n",
    "                 GROUP BY u.level\n",
    " \"\"\")\n",
    "rows = cur.fetchall()\n",
    "results = []\n",
    "for row in rows:\n",
    "    results.append(row[0])\n",
    "    print(row)"
   ]
  },
  {
   "cell_type": "markdown",
   "metadata": {
    "editable": true
   },
   "source": [
    "## Hourly Level by Gender"
   ]
  },
  {
   "cell_type": "code",
   "execution_count": 42,
   "metadata": {
    "editable": true
   },
   "outputs": [],
   "source": [
    " cur.execute(\"\"\" SELECT t.hour, s.level, u.gender,COUNT(s.level) \n",
    "                 FROM songplays s\n",
    "                 JOIN users u ON s.user_id = u.user_id\n",
    "                 JOIN time t ON t.start_time = s.start_time\n",
    "                 GROUP BY t.hour, s.level, u.gender\n",
    "                 ORDER BY t.hour, s.level DESC, u.gender\n",
    " \"\"\")\n",
    "rows = cur.fetchall()\n",
    "results = []\n",
    "for row in rows:\n",
    "    results.append(row[0])\n",
    "    print(row)"
   ]
  },
  {
   "cell_type": "markdown",
   "metadata": {
    "editable": true
   },
   "source": [
    "## Songs ToP 10"
   ]
  },
  {
   "cell_type": "code",
   "execution_count": 48,
   "metadata": {
    "editable": true
   },
   "outputs": [
    {
     "name": "stdout",
     "output_type": "stream",
     "text": [
      "('Setanta matins', 1)\n"
     ]
    }
   ],
   "source": [
    " cur.execute(\"\"\" SELECT title, count(s.session_id)\n",
    "                 FROM songplays s\n",
    "                 JOIN songs  ON s.song_id = songs.song_id\n",
    "                 GROUP BY songs.title\n",
    "                 ORDER BY count(s.session_id) DESC\n",
    "                 LIMIT 10\n",
    " \"\"\")\n",
    "rows = cur.fetchall()\n",
    "results = []\n",
    "for row in rows:\n",
    "    results.append(row[0])\n",
    "    print(row)"
   ]
  },
  {
   "cell_type": "markdown",
   "metadata": {
    "editable": true
   },
   "source": [
    "## ROLL BACK"
   ]
  },
  {
   "cell_type": "code",
   "execution_count": 6,
   "metadata": {
    "editable": true
   },
   "outputs": [],
   "source": [
    "# In case off error\n",
    "cur.execute(\"ROLLBACK\")"
   ]
  }
 ],
 "metadata": {
  "kernelspec": {
   "display_name": "Python 3",
   "language": "python",
   "name": "python3"
  },
  "language_info": {
   "codemirror_mode": {
    "name": "ipython",
    "version": 3
   },
   "file_extension": ".py",
   "mimetype": "text/x-python",
   "name": "python",
   "nbconvert_exporter": "python",
   "pygments_lexer": "ipython3",
   "version": "3.6.3"
  }
 },
 "nbformat": 4,
 "nbformat_minor": 4
}
