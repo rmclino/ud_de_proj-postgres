{
 "cells": [
  {
   "cell_type": "code",
   "execution_count": 2,
   "metadata": {
    "editable": true
   },
   "outputs": [],
   "source": [
    "import pandas as pd\n",
    "import psycopg2"
   ]
  },
  {
   "cell_type": "code",
   "execution_count": 7,
   "metadata": {
    "editable": true
   },
   "outputs": [],
   "source": [
    "#!python create_tables.py"
   ]
  },
  {
   "cell_type": "code",
   "execution_count": 6,
   "metadata": {
    "editable": true
   },
   "outputs": [],
   "source": [
    "#!python etl.py"
   ]
  },
  {
   "cell_type": "markdown",
   "metadata": {
    "editable": true
   },
   "source": [
    "## Open connection"
   ]
  },
  {
   "cell_type": "code",
   "execution_count": 8,
   "metadata": {
    "editable": true
   },
   "outputs": [],
   "source": [
    "conn = psycopg2.connect(\"host=127.0.0.1 dbname=sparkifydb user=student password=student\")\n",
    "cur = conn.cursor()"
   ]
  },
  {
   "cell_type": "markdown",
   "metadata": {
    "editable": true
   },
   "source": [
    "## Sessions per gender"
   ]
  },
  {
   "cell_type": "code",
   "execution_count": 9,
   "metadata": {
    "editable": true
   },
   "outputs": [
    {
     "name": "stdout",
     "output_type": "stream",
     "text": [
      "('M', 28.3431085043988)\n",
      "('F', 71.6568914956012)\n"
     ]
    }
   ],
   "source": [
    " cur.execute(\"\"\" SELECT u.gender, COUNT(session_id)/ (SELECT COUNT(session_id) FROM songplays)::float *100\n",
    "                    FROM songplays s\n",
    "                    JOIN users u\n",
    "                    ON s.user_id = u.user_id\n",
    "                    GROUP BY gender\n",
    "                    ORDER BY COUNT(session_id)                                        \n",
    " \"\"\")\n",
    "rows = cur.fetchall()\n",
    "results = []\n",
    "for row in rows:\n",
    "    results.append(row[0])\n",
    "    print(row)"
   ]
  },
  {
   "cell_type": "markdown",
   "metadata": {
    "editable": true
   },
   "source": [
    "## Sessions per gender per month"
   ]
  },
  {
   "cell_type": "code",
   "execution_count": 10,
   "metadata": {
    "editable": true
   },
   "outputs": [
    {
     "name": "stdout",
     "output_type": "stream",
     "text": [
      "(11, 'M', 28.3431085043988)\n",
      "(11, 'F', 71.6568914956012)\n"
     ]
    }
   ],
   "source": [
    " cur.execute(\"\"\" SELECT t.month, u.gender, COUNT(session_id)/ (SELECT COUNT(session_id) FROM songplays)::float *100\n",
    "                    FROM songplays s\n",
    "                    JOIN users u ON s.user_id = u.user_id\n",
    "                    JOIN time t ON s.start_time = t.start_time\n",
    "                    GROUP BY t.month, u.gender\n",
    "                    ORDER BY COUNT(session_id)  \n",
    " \"\"\")\n",
    "rows = cur.fetchall()\n",
    "results = []\n",
    "for row in rows:\n",
    "    results.append(row[0])\n",
    "    print(row)"
   ]
  },
  {
   "cell_type": "markdown",
   "metadata": {
    "editable": true
   },
   "source": [
    "## Most Played artists"
   ]
  },
  {
   "cell_type": "code",
   "execution_count": 15,
   "metadata": {
    "editable": true
   },
   "outputs": [
    {
     "name": "stdout",
     "output_type": "stream",
     "text": [
      "('Elena', 0.0146627565982405)\n"
     ]
    }
   ],
   "source": [
    " cur.execute(\"\"\" SELECT a.name, COUNT(session_id)/ (SELECT COUNT(session_id) FROM songplays)::float *100\n",
    "                    FROM songplays s\n",
    "                    JOIN artists a ON s.artist_id = a.artist_id\n",
    "                    GROUP BY a.name\n",
    "                    ORDER BY COUNT(session_id) DESC\n",
    "                    LIMIT 10\n",
    " \"\"\")\n",
    "rows = cur.fetchall()\n",
    "results = []\n",
    "for row in rows:\n",
    "    results.append(row[0])\n",
    "    print(row)"
   ]
  },
  {
   "cell_type": "markdown",
   "metadata": {
    "editable": true
   },
   "source": [
    "## User Levels %"
   ]
  },
  {
   "cell_type": "code",
   "execution_count": 16,
   "metadata": {
    "editable": true
   },
   "outputs": [
    {
     "name": "stdout",
     "output_type": "stream",
     "text": [
      "('free', 77.0833333333333)\n",
      "('paid', 22.9166666666667)\n"
     ]
    }
   ],
   "source": [
    " cur.execute(\"\"\" SELECT u.level, COUNT(u.level) / (SELECT COUNT(u.level) FROM users u)::float *100\n",
    "                 FROM users u\n",
    "                 GROUP BY u.level\n",
    " \"\"\")\n",
    "rows = cur.fetchall()\n",
    "results = []\n",
    "for row in rows:\n",
    "    results.append(row[0])\n",
    "    print(row)"
   ]
  },
  {
   "cell_type": "markdown",
   "metadata": {
    "editable": true
   },
   "source": [
    "## Hourly Level by Gender"
   ]
  },
  {
   "cell_type": "code",
   "execution_count": 17,
   "metadata": {
    "editable": true
   },
   "outputs": [
    {
     "name": "stdout",
     "output_type": "stream",
     "text": [
      "(0, 'paid', 'F', 83)\n",
      "(0, 'paid', 'M', 38)\n",
      "(0, 'free', 'F', 11)\n",
      "(0, 'free', 'M', 23)\n",
      "(1, 'paid', 'F', 76)\n",
      "(1, 'paid', 'M', 52)\n",
      "(1, 'free', 'F', 24)\n",
      "(1, 'free', 'M', 2)\n",
      "(2, 'paid', 'F', 68)\n",
      "(2, 'paid', 'M', 18)\n",
      "(2, 'free', 'F', 12)\n",
      "(2, 'free', 'M', 19)\n",
      "(3, 'paid', 'F', 58)\n",
      "(3, 'paid', 'M', 17)\n",
      "(3, 'free', 'F', 11)\n",
      "(3, 'free', 'M', 23)\n",
      "(4, 'paid', 'F', 70)\n",
      "(4, 'paid', 'M', 18)\n",
      "(4, 'free', 'F', 15)\n",
      "(4, 'free', 'M', 33)\n",
      "(5, 'paid', 'F', 102)\n",
      "(5, 'paid', 'M', 19)\n",
      "(5, 'free', 'F', 24)\n",
      "(5, 'free', 'M', 17)\n",
      "(6, 'paid', 'F', 113)\n",
      "(6, 'paid', 'M', 27)\n",
      "(6, 'free', 'F', 19)\n",
      "(6, 'free', 'M', 24)\n",
      "(7, 'paid', 'F', 122)\n",
      "(7, 'paid', 'M', 34)\n",
      "(7, 'free', 'F', 7)\n",
      "(7, 'free', 'M', 16)\n",
      "(8, 'paid', 'F', 122)\n",
      "(8, 'paid', 'M', 60)\n",
      "(8, 'free', 'F', 13)\n",
      "(8, 'free', 'M', 12)\n",
      "(9, 'paid', 'F', 192)\n",
      "(9, 'paid', 'M', 54)\n",
      "(9, 'free', 'F', 14)\n",
      "(9, 'free', 'M', 10)\n",
      "(10, 'paid', 'F', 212)\n",
      "(10, 'paid', 'M', 37)\n",
      "(10, 'free', 'F', 43)\n",
      "(10, 'free', 'M', 20)\n",
      "(11, 'paid', 'F', 251)\n",
      "(11, 'paid', 'M', 40)\n",
      "(11, 'free', 'F', 21)\n",
      "(11, 'free', 'M', 24)\n",
      "(12, 'paid', 'F', 218)\n",
      "(12, 'paid', 'M', 33)\n",
      "(12, 'free', 'F', 25)\n",
      "(12, 'free', 'M', 32)\n",
      "(13, 'paid', 'F', 202)\n",
      "(13, 'paid', 'M', 41)\n",
      "(13, 'free', 'F', 40)\n",
      "(13, 'free', 'M', 41)\n",
      "(14, 'paid', 'F', 271)\n",
      "(14, 'paid', 'M', 50)\n",
      "(14, 'free', 'F', 55)\n",
      "(14, 'free', 'M', 56)\n",
      "(15, 'paid', 'F', 270)\n",
      "(15, 'paid', 'M', 89)\n",
      "(15, 'free', 'F', 54)\n",
      "(15, 'free', 'M', 64)\n",
      "(16, 'paid', 'F', 340)\n",
      "(16, 'paid', 'M', 102)\n",
      "(16, 'free', 'F', 52)\n",
      "(16, 'free', 'M', 48)\n",
      "(17, 'paid', 'F', 307)\n",
      "(17, 'paid', 'M', 125)\n",
      "(17, 'free', 'F', 39)\n",
      "(17, 'free', 'M', 23)\n",
      "(18, 'paid', 'F', 285)\n",
      "(18, 'paid', 'M', 139)\n",
      "(18, 'free', 'F', 30)\n",
      "(18, 'free', 'M', 44)\n",
      "(19, 'paid', 'F', 224)\n",
      "(19, 'paid', 'M', 115)\n",
      "(19, 'free', 'F', 9)\n",
      "(19, 'free', 'M', 19)\n",
      "(20, 'paid', 'F', 238)\n",
      "(20, 'paid', 'M', 77)\n",
      "(20, 'free', 'F', 23)\n",
      "(20, 'free', 'M', 22)\n",
      "(21, 'paid', 'F', 183)\n",
      "(21, 'paid', 'M', 40)\n",
      "(21, 'free', 'F', 23)\n",
      "(21, 'free', 'M', 34)\n",
      "(22, 'paid', 'F', 142)\n",
      "(22, 'paid', 'M', 37)\n",
      "(22, 'free', 'F', 16)\n",
      "(22, 'free', 'M', 22)\n",
      "(23, 'paid', 'F', 145)\n",
      "(23, 'paid', 'M', 35)\n",
      "(23, 'free', 'F', 13)\n",
      "(23, 'free', 'M', 8)\n"
     ]
    }
   ],
   "source": [
    " cur.execute(\"\"\" SELECT t.hour, s.level, u.gender,COUNT(s.level) \n",
    "                 FROM songplays s\n",
    "                 JOIN users u ON s.user_id = u.user_id\n",
    "                 JOIN time t ON t.start_time = s.start_time\n",
    "                 GROUP BY t.hour, s.level, u.gender\n",
    "                 ORDER BY t.hour, s.level DESC, u.gender\n",
    " \"\"\")\n",
    "rows = cur.fetchall()\n",
    "results = []\n",
    "for row in rows:\n",
    "    results.append(row[0])\n",
    "    print(row)"
   ]
  },
  {
   "cell_type": "markdown",
   "metadata": {
    "editable": true
   },
   "source": [
    "## Songs ToP 10"
   ]
  },
  {
   "cell_type": "code",
   "execution_count": 18,
   "metadata": {
    "editable": true
   },
   "outputs": [
    {
     "name": "stdout",
     "output_type": "stream",
     "text": [
      "('Setanta matins', 1)\n"
     ]
    }
   ],
   "source": [
    " cur.execute(\"\"\" SELECT title, count(s.session_id)\n",
    "                 FROM songplays s\n",
    "                 JOIN songs  ON s.song_id = songs.song_id\n",
    "                 GROUP BY songs.title\n",
    "                 ORDER BY count(s.session_id) DESC\n",
    "                 LIMIT 10\n",
    " \"\"\")\n",
    "rows = cur.fetchall()\n",
    "results = []\n",
    "for row in rows:\n",
    "    results.append(row[0])\n",
    "    print(row)"
   ]
  },
  {
   "cell_type": "markdown",
   "metadata": {
    "editable": true
   },
   "source": [
    "## ROLL BACK"
   ]
  },
  {
   "cell_type": "code",
   "execution_count": 19,
   "metadata": {
    "editable": true
   },
   "outputs": [],
   "source": [
    "# In case off error\n",
    "cur.execute(\"ROLLBACK\")"
   ]
  }
 ],
 "metadata": {
  "kernelspec": {
   "display_name": "Python 3",
   "language": "python",
   "name": "python3"
  },
  "language_info": {
   "codemirror_mode": {
    "name": "ipython",
    "version": 3
   },
   "file_extension": ".py",
   "mimetype": "text/x-python",
   "name": "python",
   "nbconvert_exporter": "python",
   "pygments_lexer": "ipython3",
   "version": "3.6.3"
  }
 },
 "nbformat": 4,
 "nbformat_minor": 4
}
